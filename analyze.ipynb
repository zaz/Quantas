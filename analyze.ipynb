{
 "cells": [
  {
   "cell_type": "code",
   "execution_count": 63,
   "id": "7d721b85",
   "metadata": {
    "collapsed": false
   },
   "outputs": [],
   "source": []
  },
  {
   "cell_type": "code",
   "execution_count": null,
   "id": "b69cd832-e481-4e26-976b-22cee37684af",
   "metadata": {
    "collapsed": false
   },
   "outputs": [
    {
     "name": "stderr",
     "output_type": "stream",
     "text": [
      "/tmp/ipykernel_18705/3564400097.py:18: RuntimeWarning: Mean of empty slice\n",
      "  correctLatencyAvg  = np.nanmean( correctLatency, axis=0)\n",
      "/usr/lib64/python3.11/site-packages/numpy/lib/nanfunctions.py:1872: RuntimeWarning: Degrees of freedom <= 0 for slice.\n",
      "  var = nanvar(a, axis=axis, dtype=dtype, out=out, ddof=ddof,\n",
      "/tmp/ipykernel_18705/3564400097.py:20: RuntimeWarning: Mean of empty slice\n",
      "  infectedLatencyAvg = np.nanmean(infectedLatency, axis=0)\n"
     ]
    },
    {
     "name": "stderr",
     "output_type": "stream",
     "text": [
      "/tmp/ipykernel_18705/3564400097.py:63: UserWarning: Creating legend with loc=\"best\" can be slow with large amounts of data.\n",
      "  plt.savefig(f\"analysis/pBFT/d10/r1000/p100/i{n:02}t.svg\")\n"
     ]
    }
   ],
   "source": [
    "#!make run\n",
    "%matplotlib inline\n",
    "import matplotlib.pyplot as plt\n",
    "import scienceplots  # scientific themes for matplotlib\n",
    "import numpy as np\n",
    "import json\n",
    "\n",
    "# number of peers to crash\n",
    "n = 1\n",
    "\n",
    "correct  = json.load(open( \"analysis/pBFT/d10/r1000/p100/i00t.json\"))\n",
    "infected = json.load(open(f\"analysis/pBFT/d10/r1000/p100/i{n:02}t.json\"))\n",
    "\n",
    "correctLatency  = np.array(list(map(lambda x: x['latency'],  correct['tests'])), dtype=np.float64)\n",
    "infectedLatency = np.array(list(map(lambda x: x['latency'], infected['tests'])), dtype=np.float64)\n",
    "\n",
    "# averages and standard deviations, ignoring None\n",
    "correctLatencyAvg  = np.nanmean( correctLatency, axis=0)\n",
    "correctLatencyStd  = np.nanstd(  correctLatency, axis=0)\n",
    "infectedLatencyAvg = np.nanmean(infectedLatency, axis=0)\n",
    "infectedLatencyStd = np.nanstd( infectedLatency, axis=0)\n",
    "\n",
    "# create an array for the x axis. A range from 0 to ...\n",
    "x = np.arange(0, len(correctLatency[0]))\n",
    "\n",
    "with plt.style.context('science'):\n",
    "    fig, ax = plt.subplots()\n",
    "\n",
    "    unin =  plt.plot(x, correctLatency.T, ':', color='blue', alpha=.035,\n",
    "                     label='Uninfected')\n",
    "    uninAvg = plt.plot(x, correctLatencyAvg.T, color='blue', linewidth=3,\n",
    "                       label='Uninfected average')\n",
    "    # shade the 95% confidence interval\n",
    "    plt.fill_between(x,\n",
    "                     correctLatencyAvg.T-1.96*correctLatencyStd.T,\n",
    "                     correctLatencyAvg.T+2*correctLatencyStd.T,\n",
    "                     linestyle='',   color='blue', linewidth=3, alpha=.2,\n",
    "                     label='Uninfected 95% error')\n",
    "\n",
    "    crsh =  plt.plot(x, infectedLatency.T, ':', color='red', alpha=.035,\n",
    "                     label='Crashing')\n",
    "    crshAvg = plt.plot(x, infectedLatencyAvg.T, color='red', linewidth=3,\n",
    "                       label='Crashing average')\n",
    "    # shade the 95% confidence interval\n",
    "    plt.fill_between(x,\n",
    "                     infectedLatencyAvg.T-1.96*infectedLatencyStd.T,\n",
    "                     infectedLatencyAvg.T+2*infectedLatencyStd.T,\n",
    "                     linestyle='',   color='red', linewidth=3, alpha=.2,\n",
    "                     label='Crashing 95% error')\n",
    "\n",
    "    plt.legend(handles=[uninAvg[0], crshAvg[0]], mode=\"expand\")\n",
    "\n",
    "    plt.xlabel('Round')\n",
    "    plt.ylabel('Cumulative average latency (rounds)')\n",
    "    plt.title(f'pBFT latency with {n}/100 peers crashing at round 200')\n",
    "    # add gridlines every 1\n",
    "    plt.grid(True, axis='y')\n",
    "    # set the gap between the left axis and the data to zero\n",
    "    ax.set_xmargin(0)\n",
    "    # make plot bigger\n",
    "    plt.gcf().set_size_inches(10, 5)\n",
    "\n",
    "    plt.savefig(f\"analysis/pBFT/d10/r1000/p100/i{n:02}t.svg\")\n",
    "    plt.savefig(f\"analysis/pBFT/d10/r1000/p100/i{n:02}t.png\", dpi=300)\n",
    "    plt.show()\n"
   ]
  },
  {
   "cell_type": "code",
   "execution_count": null,
   "id": "46feb52d-bb79-43f0-95f3-6381e095e896",
   "metadata": {
    "collapsed": false
   },
   "outputs": [],
   "source": []
  }
 ],
 "metadata": {
  "kernelspec": {
   "argv": [
    "python",
    "-m",
    "ipykernel_launcher",
    "-f",
    "{connection_file}"
   ],
   "display_name": "Python 3 (ipykernel)",
   "env": null,
   "interrupt_mode": "signal",
   "language": "python",
   "metadata": {
    "debugger": true
   },
   "name": "python3"
  },
  "language_info": {
   "codemirror_mode": {
    "name": "ipython",
    "version": 3
   },
   "file_extension": ".py",
   "mimetype": "text/x-python",
   "name": "python",
   "nbconvert_exporter": "python",
   "pygments_lexer": "ipython3",
   "version": "3.11.4"
  },
  "name": "analyze.ipynb"
 },
 "nbformat": 4,
 "nbformat_minor": 5
}
